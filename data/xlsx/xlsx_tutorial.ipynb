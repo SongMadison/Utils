{
 "cells": [
  {
   "cell_type": "code",
   "execution_count": 5,
   "metadata": {},
   "outputs": [],
   "source": [
    "import os\n",
    "import pandas as pd\n",
    "# openpyxl is required for pandas to read excel files\n",
    "\n",
    "input_file =\"/Users/SongWang/work/data/query_types/Classification of Queries in QuerySkills - AIC2.xlsx\"\n",
    "# read all the sheets\n",
    "df = pd.read_excel(input_file, sheet_name=None)"
   ]
  },
  {
   "cell_type": "code",
   "execution_count": 8,
   "metadata": {},
   "outputs": [
    {
     "name": "stdout",
     "output_type": "stream",
     "text": [
      "dict_keys(['unanswerable-queries', 'other - query skills', 'overall summary skills', 'all action items skills', 'all topics skills', 'am i mentioned skills', 'top freuqent queries', 'Sheet8_conflict1523315519', 'top100-dg01', 'top100-us01'])\n"
     ]
    }
   ],
   "source": [
    "print(df.keys())"
   ]
  },
  {
   "cell_type": "code",
   "execution_count": 11,
   "metadata": {},
   "outputs": [
    {
     "data": {
      "text/html": [
       "<div>\n",
       "<style scoped>\n",
       "    .dataframe tbody tr th:only-of-type {\n",
       "        vertical-align: middle;\n",
       "    }\n",
       "\n",
       "    .dataframe tbody tr th {\n",
       "        vertical-align: top;\n",
       "    }\n",
       "\n",
       "    .dataframe thead th {\n",
       "        text-align: right;\n",
       "    }\n",
       "</style>\n",
       "<table border=\"1\" class=\"dataframe\">\n",
       "  <thead>\n",
       "    <tr style=\"text-align: right;\">\n",
       "      <th></th>\n",
       "      <th>query</th>\n",
       "      <th>queryCount</th>\n",
       "      <th>sortNum</th>\n",
       "      <th>userCount</th>\n",
       "    </tr>\n",
       "  </thead>\n",
       "  <tbody>\n",
       "    <tr>\n",
       "      <th>0</th>\n",
       "      <td>Prepare for this meeting.</td>\n",
       "      <td>3137</td>\n",
       "      <td>1</td>\n",
       "      <td>189</td>\n",
       "    </tr>\n",
       "    <tr>\n",
       "      <th>1</th>\n",
       "      <td>Help me prepare for my upcoming meetings.</td>\n",
       "      <td>1936</td>\n",
       "      <td>2</td>\n",
       "      <td>181</td>\n",
       "    </tr>\n",
       "    <tr>\n",
       "      <th>2</th>\n",
       "      <td>Summarize one of my recent meetings.</td>\n",
       "      <td>546</td>\n",
       "      <td>3</td>\n",
       "      <td>158</td>\n",
       "    </tr>\n",
       "    <tr>\n",
       "      <th>3</th>\n",
       "      <td>Write a blog post introducing new AI features.</td>\n",
       "      <td>422</td>\n",
       "      <td>4</td>\n",
       "      <td>210</td>\n",
       "    </tr>\n",
       "    <tr>\n",
       "      <th>4</th>\n",
       "      <td>Summarize this meeting.</td>\n",
       "      <td>384</td>\n",
       "      <td>5</td>\n",
       "      <td>98</td>\n",
       "    </tr>\n",
       "    <tr>\n",
       "      <th>5</th>\n",
       "      <td>Brainstorm ideas for a fun team bonding activity.</td>\n",
       "      <td>376</td>\n",
       "      <td>6</td>\n",
       "      <td>218</td>\n",
       "    </tr>\n",
       "    <tr>\n",
       "      <th>6</th>\n",
       "      <td>hi</td>\n",
       "      <td>310</td>\n",
       "      <td>7</td>\n",
       "      <td>46</td>\n",
       "    </tr>\n",
       "    <tr>\n",
       "      <th>7</th>\n",
       "      <td>Prepare for my remaining meetings today</td>\n",
       "      <td>232</td>\n",
       "      <td>8</td>\n",
       "      <td>9</td>\n",
       "    </tr>\n",
       "    <tr>\n",
       "      <th>8</th>\n",
       "      <td>help</td>\n",
       "      <td>222</td>\n",
       "      <td>9</td>\n",
       "      <td>182</td>\n",
       "    </tr>\n",
       "    <tr>\n",
       "      <th>9</th>\n",
       "      <td>summarize this channel</td>\n",
       "      <td>221</td>\n",
       "      <td>10</td>\n",
       "      <td>24</td>\n",
       "    </tr>\n",
       "  </tbody>\n",
       "</table>\n",
       "</div>"
      ],
      "text/plain": [
       "                                               query  queryCount  sortNum  \\\n",
       "0                          Prepare for this meeting.        3137        1   \n",
       "1          Help me prepare for my upcoming meetings.        1936        2   \n",
       "2               Summarize one of my recent meetings.         546        3   \n",
       "3     Write a blog post introducing new AI features.         422        4   \n",
       "4                            Summarize this meeting.         384        5   \n",
       "5  Brainstorm ideas for a fun team bonding activity.         376        6   \n",
       "6                                                 hi         310        7   \n",
       "7            Prepare for my remaining meetings today         232        8   \n",
       "8                                               help         222        9   \n",
       "9                             summarize this channel         221       10   \n",
       "\n",
       "   userCount  \n",
       "0        189  \n",
       "1        181  \n",
       "2        158  \n",
       "3        210  \n",
       "4         98  \n",
       "5        218  \n",
       "6         46  \n",
       "7          9  \n",
       "8        182  \n",
       "9         24  "
      ]
     },
     "execution_count": 11,
     "metadata": {},
     "output_type": "execute_result"
    }
   ],
   "source": [
    "df_top100_dg = df['top100-dg01']\n",
    "df_top100_dg[:10]"
   ]
  },
  {
   "cell_type": "code",
   "execution_count": null,
   "metadata": {},
   "outputs": [],
   "source": []
  }
 ],
 "metadata": {
  "kernelspec": {
   "display_name": "ml-utils",
   "language": "python",
   "name": "python3"
  },
  "language_info": {
   "codemirror_mode": {
    "name": "ipython",
    "version": 3
   },
   "file_extension": ".py",
   "mimetype": "text/x-python",
   "name": "python",
   "nbconvert_exporter": "python",
   "pygments_lexer": "ipython3",
   "version": "3.12.4"
  }
 },
 "nbformat": 4,
 "nbformat_minor": 2
}

{
 "metadata": {
  "language_info": {
   "codemirror_mode": {
    "name": "ipython",
    "version": 3
   },
   "file_extension": ".py",
   "mimetype": "text/x-python",
   "name": "python",
   "nbconvert_exporter": "python",
   "pygments_lexer": "ipython3",
   "version": "3.8.5-final"
  },
  "orig_nbformat": 2,
  "kernelspec": {
   "name": "python3",
   "display_name": "Python 3",
   "language": "python"
  }
 },
 "nbformat": 4,
 "nbformat_minor": 2,
 "cells": [
  {
   "source": [
    "### string literals and 'r', 'u', 'b' effects on the interpretion\n",
    "\n",
    "https://docs.python.org/2/reference/lexical_analysis.html#string-literals\n",
    "\n",
    "The backslash (\\) character is used to escape characters that otherwise have a special meaning, such as newline, backslash itself, or the quote character\n",
    "\n",
    "String literals may optionally be prefixed with a letter 'r' or 'R'; such strings are called raw strings and use **different rules** for interpreting backslash escape sequences.  Unless an 'r' or 'R' prefix is present, escape sequences in strings are interpreted according to rules similar to those used by Standard C. for example \"\\n\", \"\\r\", \"\\t\" \"\\\\\" and so on\n",
    "\n"
   ],
   "cell_type": "markdown",
   "metadata": {}
  },
  {
   "cell_type": "code",
   "execution_count": 1,
   "metadata": {},
   "outputs": [
    {
     "output_type": "stream",
     "name": "stdout",
     "text": [
      "c:\\boot.ini\n"
     ]
    },
    {
     "output_type": "execute_result",
     "data": {
      "text/plain": [
       "('c:\\\\boot.ini', \"'c:\\\\\\\\boot.ini'\", \"'c:\\\\\\\\boot.ini'\")"
      ]
     },
     "metadata": {},
     "execution_count": 1
    }
   ],
   "source": [
    "#how to represent the value 'c:\\\\boot.ini', consider this the string \n",
    "s = r'c:\\boot.ini'\n",
    "s1 = repr(s)\n",
    "s2 = r\"'c:\\\\boot.ini'\"\n",
    "assert s1 == s2\n",
    "print(s)\n",
    "s, s1, s2"
   ]
  },
  {
   "cell_type": "code",
   "execution_count": 2,
   "metadata": {},
   "outputs": [
    {
     "output_type": "stream",
     "name": "stdout",
     "text": [
      "coot.ini\n"
     ]
    },
    {
     "output_type": "execute_result",
     "data": {
      "text/plain": [
       "('c:\\x08oot.ini', \"'c:\\\\x08oot.ini'\", \"'c:\\\\boot.ini'\")"
      ]
     },
     "metadata": {},
     "execution_count": 2
    }
   ],
   "source": [
    "s = 'c:\\boot.ini'\n",
    "s1 = repr(s)\n",
    "s2 = \"'c:\\\\boot.ini'\"\n",
    "print(s)\n",
    "s, s1, s2\n"
   ]
  },
  {
   "source": [
    "In other word, in Python (as in most languages that evolved in a Unix environment) in quoted string literals the backslash has the magical power of an escape character. This means that a backslash isn’t interpreted as a backslash, but as a signal that the next character is to be given a special interpretation. So when you coded\n",
    "\n",
    "Refrence to : [https://pythonconquerstheuniverse.wordpress.com/2008/06/04/gotcha-%E2%80%94-backslashes-are-escape-characters/](https://pythonconquerstheuniverse.wordpress.com/2008/06/04/gotcha-%E2%80%94-backslashes-are-escape-characters/)\n",
    "\n"
   ],
   "cell_type": "markdown",
   "metadata": {}
  },
  {
   "cell_type": "code",
   "execution_count": 3,
   "metadata": {},
   "outputs": [
    {
     "output_type": "execute_result",
     "data": {
      "text/plain": [
       "(\"'c:\\\\newproject\\\\typenames.txt'\", 'c:\\newproject\\typenames.txt')"
      ]
     },
     "metadata": {},
     "execution_count": 3
    }
   ],
   "source": [
    "myFilename = \"c:\\newproject\\typenames.txt\"\n",
    "repr(myFilename), str(myFilename)"
   ]
  },
  {
   "source": [
    "### Following are differences between str and repr:\n",
    "\n",
    "- The default implementation is useless (it’s hard to think of one which wouldn’t be, but yeah)\n",
    "- `__repr__` goal is to be unambiguous\n",
    "- `__str__` goal is to be readable\n",
    "- Container’s `__str__` uses contained objects’` __repr__`\n",
    "\n",
    "str() is used for creating output for end user while repr() is mainly used for debugging and development. repr’s goal is to be unambiguous and str’s is to be readable. For example, if we suspect a float has a small rounding error, repr will show us while str may not.\n",
    "\n",
    "repr() compute the “official” string representation of an object (a representation that has all information about the object) and str() is used to compute the “informal” string representation of an object (a representation that is useful for printing the object).\n",
    "The print statement and str() built-in function uses __str__ to display the string representation of the object while the repr() built-in function uses __repr__ to display the object.\n",
    "\n",
    "Refernce : [https://stackoverflow.com/questions/1436703/what-is-the-difference-between-str-and-repr](https://stackoverflow.com/questions/1436703/what-is-the-difference-between-str-and-repr)"
   ],
   "cell_type": "markdown",
   "metadata": {}
  },
  {
   "cell_type": "code",
   "execution_count": 4,
   "metadata": {},
   "outputs": [
    {
     "output_type": "stream",
     "name": "stdout",
     "text": [
      "10 + i20\nRational(10, 20)\n"
     ]
    }
   ],
   "source": [
    "\n",
    "\n",
    "\n",
    "# Python program to demonstrate writing of __repr__ and \n",
    "# __str__ for user defined classes \n",
    "  \n",
    "# A user defined class to represent Complex numbers \n",
    "class Complex: \n",
    "  \n",
    "    # Constructor \n",
    "    def __init__(self, real, imag): \n",
    "       self.real = real \n",
    "       self.imag = imag \n",
    "  \n",
    "    # For call to repr(). Prints object's information \n",
    "    def __repr__(self): \n",
    "       return 'Rational(%s, %s)' % (self.real, self.imag)     \n",
    "  \n",
    "    # For call to str(). Prints readable form \n",
    "    def __str__(self): \n",
    "       return '%s + i%s' % (self.real, self.imag)     \n",
    "  \n",
    "  \n",
    "  \n",
    "# Driver program to test above \n",
    "t = Complex(10, 20) \n",
    "  \n",
    "# Same as \"print t\" \n",
    "print (str(t))   \n",
    "print (repr(t)) "
   ]
  },
  {
   "source": [
    "### when comes to read in and write out \n",
    "```\n",
    "with open(test.txt) as f_in:\n",
    "    lines =[ line for line in f_in]\n",
    "```\n",
    "The things it contains here are equivalent to string literval for r'xxx' where xxx is the content in the file."
   ],
   "cell_type": "markdown",
   "metadata": {}
  },
  {
   "cell_type": "code",
   "execution_count": 5,
   "metadata": {},
   "outputs": [
    {
     "output_type": "stream",
     "name": "stdout",
     "text": [
      "C:\\newprojects\\timemachine\n",
      "------------\n",
      "C:\\newprojects\\timemachine\n",
      "\n"
     ]
    },
    {
     "output_type": "execute_result",
     "data": {
      "text/plain": [
       "'C:\\\\newprojects\\\\timemachine\\n'"
      ]
     },
     "metadata": {},
     "execution_count": 5
    }
   ],
   "source": [
    "#!echo 'C:\\newprojects\\timemachine' > data/test.txt\n",
    "!head data/test.txt\n",
    "with open(\"data/test.txt\") as f_in:\n",
    "    lines =[ line for line in f_in]\n",
    "print(\"------------\")\n",
    "print(lines[0])\n",
    "lines[0]\n"
   ]
  },
  {
   "cell_type": "code",
   "execution_count": 6,
   "metadata": {},
   "outputs": [
    {
     "output_type": "execute_result",
     "data": {
      "text/plain": [
       "('C:\\\\newprojects\\\\timemachine---',\n",
       " 'C:\\\\newprojects\\\\timemachine---',\n",
       " 'C:\\\\newprojects\\\\timemachine---',\n",
       " 'C:---ewprojects\\\\timemachine\\n')"
      ]
     },
     "metadata": {},
     "execution_count": 6
    }
   ],
   "source": [
    "import re\n",
    "re.sub(r\"\\n\", \"---\", lines[0]), re.sub(\"\\n\", \"---\", lines[0]), re.sub(\"\\\\n\", \"---\", lines[0]),re.sub(r\"\\\\n\", \"---\", lines[0])"
   ]
  },
  {
   "cell_type": "code",
   "execution_count": 7,
   "metadata": {},
   "outputs": [
    {
     "output_type": "execute_result",
     "data": {
      "text/plain": [
       "([92, 92, 110],\n",
       " [92, 110],\n",
       " [10],\n",
       " [92, 110],\n",
       " [67,\n",
       "  58,\n",
       "  92,\n",
       "  110,\n",
       "  101,\n",
       "  119,\n",
       "  112,\n",
       "  114,\n",
       "  111,\n",
       "  106,\n",
       "  101,\n",
       "  99,\n",
       "  116,\n",
       "  115,\n",
       "  92,\n",
       "  116,\n",
       "  105,\n",
       "  109,\n",
       "  101,\n",
       "  109,\n",
       "  97,\n",
       "  99,\n",
       "  104,\n",
       "  105,\n",
       "  110,\n",
       "  101,\n",
       "  10])"
      ]
     },
     "metadata": {},
     "execution_count": 7
    }
   ],
   "source": [
    "[ord(i) for i in r\"\\\\n\"], [ord(i) for i in \"\\\\n\"], [ord(i) for i in \"\\n\"], [ord(i) for i in r\"\\n\"], [ord(i) for i in lines[0]]"
   ]
  },
  {
   "cell_type": "code",
   "execution_count": 8,
   "metadata": {},
   "outputs": [
    {
     "output_type": "execute_result",
     "data": {
      "text/plain": [
       "('\\\\n', '\\\\\\\\n', \"'C:\\\\\\\\newprojects\\\\\\\\timemachine\\\\n'\")"
      ]
     },
     "metadata": {},
     "execution_count": 8
    }
   ],
   "source": [
    "r\"\\n\", r\"\\\\n\", repr(lines[0])"
   ]
  },
  {
   "cell_type": "code",
   "execution_count": 9,
   "metadata": {},
   "outputs": [
    {
     "output_type": "execute_result",
     "data": {
      "text/plain": [
       "('C:\\\\newprojects\\\\timemachine\\n',\n",
       " 'C:---ewprojects\\\\timemachine\\n',\n",
       " 'C:\\\\newprojects\\\\timemachine---')"
      ]
     },
     "metadata": {},
     "execution_count": 9
    }
   ],
   "source": [
    "text = lines[0]\n",
    "text, text.replace(r\"\\n\", \"---\"), text.replace(\"\\n\", \"---\")"
   ]
  },
  {
   "cell_type": "code",
   "execution_count": 10,
   "metadata": {},
   "outputs": [
    {
     "output_type": "execute_result",
     "data": {
      "text/plain": [
       "'\\n'"
      ]
     },
     "metadata": {},
     "execution_count": 10
    }
   ],
   "source": [
    "t =\"\\n\"\n",
    "t\n"
   ]
  },
  {
   "cell_type": "code",
   "execution_count": null,
   "metadata": {},
   "outputs": [],
   "source": []
  }
 ]
}
{
 "metadata": {
  "language_info": {
   "codemirror_mode": {
    "name": "ipython",
    "version": 3
   },
   "file_extension": ".py",
   "mimetype": "text/x-python",
   "name": "python",
   "nbconvert_exporter": "python",
   "pygments_lexer": "ipython3",
   "version": "3.8.5-final"
  },
  "orig_nbformat": 2,
  "kernelspec": {
   "name": "python3",
   "display_name": "Python 3",
   "language": "python"
  }
 },
 "nbformat": 4,
 "nbformat_minor": 2,
 "cells": [
  {
   "source": [
    "### string literals and 'r', 'u', 'b' effects on the interpretion\n",
    "\n",
    "https://docs.python.org/2/reference/lexical_analysis.html#string-literals\n",
    "\n",
    "The backslash (\\) character is used to escape characters that otherwise have a special meaning, such as newline, backslash itself, or the quote character\n",
    "\n",
    "String literals may optionally be prefixed with a letter 'r' or 'R'; such strings are called raw strings and use **different rules** for interpreting backslash escape sequences.  Unless an 'r' or 'R' prefix is present, escape sequences in strings are interpreted according to rules similar to those used by Standard C. for example \"\\n\", \"\\r\", \"\\t\" \"\\\\\" and so on\n",
    "\n"
   ],
   "cell_type": "markdown",
   "metadata": {}
  },
  {
   "cell_type": "code",
   "execution_count": 1,
   "metadata": {},
   "outputs": [
    {
     "output_type": "stream",
     "name": "stdout",
     "text": [
      "c:\\boot.ini\n"
     ]
    },
    {
     "output_type": "execute_result",
     "data": {
      "text/plain": [
       "('c:\\\\boot.ini', \"'c:\\\\\\\\boot.ini'\", \"'c:\\\\\\\\boot.ini'\")"
      ]
     },
     "metadata": {},
     "execution_count": 1
    }
   ],
   "source": [
    "#how to represent the value 'c:\\\\boot.ini', consider this the string \n",
    "s = r'c:\\boot.ini'\n",
    "s1 = repr(s)\n",
    "s2 = r\"'c:\\\\boot.ini'\"\n",
    "assert s1 == s2\n",
    "print(s)\n",
    "s, s1, s2"
   ]
  },
  {
   "cell_type": "code",
   "execution_count": 2,
   "metadata": {},
   "outputs": [
    {
     "output_type": "stream",
     "name": "stdout",
     "text": [
      "coot.ini\n"
     ]
    },
    {
     "output_type": "execute_result",
     "data": {
      "text/plain": [
       "('c:\\x08oot.ini', \"'c:\\\\x08oot.ini'\", \"'c:\\\\boot.ini'\")"
      ]
     },
     "metadata": {},
     "execution_count": 2
    }
   ],
   "source": [
    "s = 'c:\\boot.ini'\n",
    "s1 = repr(s)\n",
    "s2 = \"'c:\\\\boot.ini'\"\n",
    "print(s)\n",
    "s, s1, s2\n"
   ]
  },
  {
   "source": [
    "### Following are differences between str and repr:\n",
    "\n",
    "str() is used for creating output for end user while repr() is mainly used for debugging and development. repr’s goal is to be unambiguous and str’s is to be readable. For example, if we suspect a float has a small rounding error, repr will show us while str may not.\n",
    "\n",
    "repr() compute the “official” string representation of an object (a representation that has all information about the object) and str() is used to compute the “informal” string representation of an object (a representation that is useful for printing the object).\n",
    "The print statement and str() built-in function uses __str__ to display the string representation of the object while the repr() built-in function uses __repr__ to display the object."
   ],
   "cell_type": "markdown",
   "metadata": {}
  },
  {
   "cell_type": "code",
   "execution_count": null,
   "metadata": {},
   "outputs": [],
   "source": []
  },
  {
   "cell_type": "code",
   "execution_count": 3,
   "metadata": {},
   "outputs": [
    {
     "output_type": "stream",
     "name": "stdout",
     "text": [
      "10 + i20\nRational(10, 20)\n"
     ]
    }
   ],
   "source": [
    "\n",
    "\n",
    "\n",
    "# Python program to demonstrate writing of __repr__ and \n",
    "# __str__ for user defined classes \n",
    "  \n",
    "# A user defined class to represent Complex numbers \n",
    "class Complex: \n",
    "  \n",
    "    # Constructor \n",
    "    def __init__(self, real, imag): \n",
    "       self.real = real \n",
    "       self.imag = imag \n",
    "  \n",
    "    # For call to repr(). Prints object's information \n",
    "    def __repr__(self): \n",
    "       return 'Rational(%s, %s)' % (self.real, self.imag)     \n",
    "  \n",
    "    # For call to str(). Prints readable form \n",
    "    def __str__(self): \n",
    "       return '%s + i%s' % (self.real, self.imag)     \n",
    "  \n",
    "  \n",
    "  \n",
    "# Driver program to test above \n",
    "t = Complex(10, 20) \n",
    "  \n",
    "# Same as \"print t\" \n",
    "print (str(t))   \n",
    "print (repr(t)) "
   ]
  },
  {
   "cell_type": "code",
   "execution_count": null,
   "metadata": {},
   "outputs": [],
   "source": []
  }
 ]
}
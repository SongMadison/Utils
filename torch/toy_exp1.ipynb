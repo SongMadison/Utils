{
 "cells": [
  {
   "cell_type": "markdown",
   "metadata": {},
   "source": [
    "# prerequisite\n",
    "conda env list\n",
    "conda activate transV3 # transoformers==3.0.2, python =3.7.7\n",
    "conda install -c conda-forge jupyterlab or pip install jupyterlab\n",
    "\n"
   ]
  },
  {
   "cell_type": "code",
   "execution_count": 1,
   "metadata": {},
   "outputs": [
    {
     "name": "stdout",
     "output_type": "stream",
     "text": [
      "3.7.4\n",
      "2.11.0\n"
     ]
    }
   ],
   "source": [
    "from platform import python_version\n",
    "print(python_version())\n",
    "import transformers as tf\n",
    "print(tf.__version__)"
   ]
  },
  {
   "cell_type": "code",
   "execution_count": 2,
   "metadata": {},
   "outputs": [
    {
     "data": {
      "text/plain": [
       "'1.5.1'"
      ]
     },
     "execution_count": 2,
     "metadata": {},
     "output_type": "execute_result"
    }
   ],
   "source": [
    "import torch\n",
    "torch.__version__"
   ]
  },
  {
   "cell_type": "code",
   "execution_count": 3,
   "metadata": {},
   "outputs": [
    {
     "data": {
      "text/plain": [
       "(tensor([[0.6776, 0.6531, 0.0457, 0.9424],\n",
       "         [0.4925, 0.9985, 0.7585, 0.0317],\n",
       "         [0.2769, 0.9590, 0.0498, 0.1786]]),\n",
       " tensor([[0.4095, 0.5523, 0.9228, 0.0484],\n",
       "         [0.8004, 0.3307, 0.5326, 0.2070],\n",
       "         [0.2271, 0.8472, 0.7639, 0.7220]]),\n",
       " tensor([[0.6776, 0.6531, 0.0457, 0.9424, 0.4095, 0.5523, 0.9228, 0.0484],\n",
       "         [0.4925, 0.9985, 0.7585, 0.0317, 0.8004, 0.3307, 0.5326, 0.2070],\n",
       "         [0.2769, 0.9590, 0.0498, 0.1786, 0.2271, 0.8472, 0.7639, 0.7220]]))"
      ]
     },
     "execution_count": 3,
     "metadata": {},
     "output_type": "execute_result"
    }
   ],
   "source": [
    "import torch\n",
    "\n",
    "torch.manual_seed(999)\n",
    "\n",
    "x1 = torch.rand(3,4)\n",
    "x2 = torch.rand(3,4)\n",
    "y = torch.cat((x1, x2), dim =1)\n",
    "x1,x2, y"
   ]
  },
  {
   "cell_type": "code",
   "execution_count": 4,
   "metadata": {},
   "outputs": [
    {
     "name": "stdout",
     "output_type": "stream",
     "text": [
      "tensor([[[0.6776, 0.6531, 0.0457, 0.9424],\n",
      "         [0.4925, 0.9985, 0.7585, 0.0317],\n",
      "         [0.2769, 0.9590, 0.0498, 0.1786],\n",
      "         [0.4095, 0.5523, 0.9228, 0.0484]],\n",
      "\n",
      "        [[0.8004, 0.3307, 0.5326, 0.2070],\n",
      "         [0.2271, 0.8472, 0.7639, 0.7220],\n",
      "         [0.7492, 0.3809, 0.5993, 0.1776],\n",
      "         [0.0750, 0.6554, 0.5502, 0.0341]]])\n"
     ]
    }
   ],
   "source": [
    "import torch\n",
    "\n",
    "torch.manual_seed(999)\n",
    "\n",
    "x = torch.rand(2,4,4)\n",
    "\n",
    "print(x)\n"
   ]
  },
  {
   "cell_type": "code",
   "execution_count": 5,
   "metadata": {},
   "outputs": [
    {
     "name": "stdout",
     "output_type": "stream",
     "text": [
      "torch.Size([2, 4, 2, 2])\n",
      "tensor([[[[0.6776, 0.6531],\n",
      "          [0.0457, 0.9424]],\n",
      "\n",
      "         [[0.4925, 0.9985],\n",
      "          [0.7585, 0.0317]],\n",
      "\n",
      "         [[0.2769, 0.9590],\n",
      "          [0.0498, 0.1786]],\n",
      "\n",
      "         [[0.4095, 0.5523],\n",
      "          [0.9228, 0.0484]]],\n",
      "\n",
      "\n",
      "        [[[0.8004, 0.3307],\n",
      "          [0.5326, 0.2070]],\n",
      "\n",
      "         [[0.2271, 0.8472],\n",
      "          [0.7639, 0.7220]],\n",
      "\n",
      "         [[0.7492, 0.3809],\n",
      "          [0.5993, 0.1776]],\n",
      "\n",
      "         [[0.0750, 0.6554],\n",
      "          [0.5502, 0.0341]]]])\n"
     ]
    }
   ],
   "source": [
    "new_x_shape = x.size()[:-1] + (2,2)\n",
    "new_x = x.view(new_x_shape)\n",
    "print(new_x.shape)\n",
    "print(new_x)"
   ]
  },
  {
   "cell_type": "code",
   "execution_count": 6,
   "metadata": {},
   "outputs": [
    {
     "name": "stdout",
     "output_type": "stream",
     "text": [
      "torch.Size([2, 2, 4, 2])\n",
      "tensor([[[[0.6776, 0.6531],\n",
      "          [0.4925, 0.9985],\n",
      "          [0.2769, 0.9590],\n",
      "          [0.4095, 0.5523]],\n",
      "\n",
      "         [[0.0457, 0.9424],\n",
      "          [0.7585, 0.0317],\n",
      "          [0.0498, 0.1786],\n",
      "          [0.9228, 0.0484]]],\n",
      "\n",
      "\n",
      "        [[[0.8004, 0.3307],\n",
      "          [0.2271, 0.8472],\n",
      "          [0.7492, 0.3809],\n",
      "          [0.0750, 0.6554]],\n",
      "\n",
      "         [[0.5326, 0.2070],\n",
      "          [0.7639, 0.7220],\n",
      "          [0.5993, 0.1776],\n",
      "          [0.5502, 0.0341]]]])\n"
     ]
    }
   ],
   "source": [
    "y = new_x.permute(0,2,1,3)\n",
    "print(y.shape)\n",
    "print(y)"
   ]
  },
  {
   "cell_type": "code",
   "execution_count": 7,
   "metadata": {},
   "outputs": [
    {
     "data": {
      "text/plain": [
       "(1, 2, 3)"
      ]
     },
     "execution_count": 7,
     "metadata": {},
     "output_type": "execute_result"
    }
   ],
   "source": [
    "(1,2)+(3,)"
   ]
  },
  {
   "cell_type": "code",
   "execution_count": 8,
   "metadata": {},
   "outputs": [
    {
     "data": {
      "text/plain": [
       "(tensor([0, 0, 0, 0, 0, 0, 0, 0, 0, 0, 0, 0, 0, 0, 0, 0, 1, 1, 1, 1, 1, 1, 1, 1,\n",
       "         1, 1, 1, 1, 1, 1, 1, 1]),\n",
       " tensor([0, 0, 0, 0, 0, 0, 0, 0, 1, 1, 1, 1, 1, 1, 1, 1, 0, 0, 0, 0, 0, 0, 0, 0,\n",
       "         1, 1, 1, 1, 1, 1, 1, 1]),\n",
       " tensor([0, 0, 1, 1, 2, 2, 3, 3, 0, 0, 1, 1, 2, 2, 3, 3, 0, 0, 1, 1, 2, 2, 3, 3,\n",
       "         0, 0, 1, 1, 2, 2, 3, 3]),\n",
       " tensor([0, 1, 0, 1, 0, 1, 0, 1, 0, 1, 0, 1, 0, 1, 0, 1, 0, 1, 0, 1, 0, 1, 0, 1,\n",
       "         0, 1, 0, 1, 0, 1, 0, 1]))"
      ]
     },
     "execution_count": 8,
     "metadata": {},
     "output_type": "execute_result"
    }
   ],
   "source": [
    "y.nonzero(as_tuple=True)"
   ]
  },
  {
   "cell_type": "code",
   "execution_count": 9,
   "metadata": {},
   "outputs": [
    {
     "data": {
      "text/plain": [
       "tensor([[0., 0., 1.],\n",
       "        [0., 0., 1.],\n",
       "        [0., 0., 1.],\n",
       "        [0., 0., 1.]])"
      ]
     },
     "execution_count": 9,
     "metadata": {},
     "output_type": "execute_result"
    }
   ],
   "source": [
    "z = torch.zeros(4,3)\n",
    "z[:,-1]=1\n",
    "z"
   ]
  },
  {
   "cell_type": "code",
   "execution_count": 10,
   "metadata": {},
   "outputs": [
    {
     "data": {
      "text/plain": [
       "(tensor([0, 1, 2, 3]), tensor([2, 2, 2, 2]))"
      ]
     },
     "execution_count": 10,
     "metadata": {},
     "output_type": "execute_result"
    }
   ],
   "source": [
    "z.nonzero(as_tuple=True)"
   ]
  },
  {
   "cell_type": "code",
   "execution_count": 11,
   "metadata": {},
   "outputs": [
    {
     "data": {
      "text/plain": [
       "tensor([[0., 0., 1.],\n",
       "        [0., 0., 1.],\n",
       "        [0., 0., 1.],\n",
       "        [0., 0., 1.]])"
      ]
     },
     "execution_count": 11,
     "metadata": {},
     "output_type": "execute_result"
    }
   ],
   "source": [
    "z"
   ]
  },
  {
   "cell_type": "code",
   "execution_count": 14,
   "metadata": {},
   "outputs": [
    {
     "data": {
      "text/plain": [
       "array([[0, 2, 7, 6],\n",
       "       [3, 1, 4, 5]])"
      ]
     },
     "execution_count": 14,
     "metadata": {},
     "output_type": "execute_result"
    }
   ],
   "source": [
    "import torch\n",
    "import numpy as np\n",
    "x = np.array( [0, 2, 7, 6, 3, 1, 4, 5] )\n",
    "shape = ( 2, 4 )\n",
    "x.reshape( shape )"
   ]
  },
  {
   "cell_type": "code",
   "execution_count": 16,
   "metadata": {},
   "outputs": [
    {
     "data": {
      "text/plain": [
       "tensor([[0., 2.],\n",
       "        [7., 6.],\n",
       "        [3., 1.],\n",
       "        [4., 5.]])"
      ]
     },
     "execution_count": 16,
     "metadata": {},
     "output_type": "execute_result"
    }
   ],
   "source": [
    "tensor_x = torch.Tensor(data)\n",
    "tensor_x.view(4,-1)"
   ]
  },
  {
   "cell_type": "code",
   "execution_count": null,
   "metadata": {},
   "outputs": [],
   "source": []
  }
 ],
 "metadata": {
  "kernelspec": {
   "display_name": "Python 3",
   "language": "python",
   "name": "python3"
  },
  "language_info": {
   "codemirror_mode": {
    "name": "ipython",
    "version": 3
   },
   "file_extension": ".py",
   "mimetype": "text/x-python",
   "name": "python",
   "nbconvert_exporter": "python",
   "pygments_lexer": "ipython3",
   "version": "3.7.4"
  }
 },
 "nbformat": 4,
 "nbformat_minor": 4
}
